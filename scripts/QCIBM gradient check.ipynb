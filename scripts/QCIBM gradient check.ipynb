{
 "cells": [
  {
   "cell_type": "code",
   "execution_count": 1,
   "id": "650dd22b",
   "metadata": {},
   "outputs": [],
   "source": [
    "import numpy as np\n",
    "import matplotlib.pyplot as plt\n",
    "\n",
    "from qiskit import QuantumCircuit, transpile, Aer, execute\n",
    "from qiskit.visualization import plot_histogram\n",
    "from qiskit.circuit.library import IQP\n",
    "from qiskit.circuit import ParameterVector\n",
    "\n",
    "import pennylane as qml\n",
    "\n",
    "from src import QCIBM_utilities as ut"
   ]
  },
  {
   "cell_type": "code",
   "execution_count": 2,
   "id": "19383d64",
   "metadata": {},
   "outputs": [],
   "source": [
    "nq = 2\n",
    "alpha_init = np.array([[1,0],[0.1,0.3]])\n",
    "Gamma_init = np.array([1,1])\n",
    "Delta_init = np.array([0.5, 0.2])\n",
    "Sigma_init = np.array([0,0.1])"
   ]
  },
  {
   "cell_type": "code",
   "execution_count": 3,
   "id": "7b919a4e",
   "metadata": {
    "scrolled": true
   },
   "outputs": [],
   "source": [
    "backend = Aer.get_backend('qasm_simulator')"
   ]
  },
  {
   "cell_type": "code",
   "execution_count": 4,
   "id": "236134c4",
   "metadata": {},
   "outputs": [],
   "source": [
    "theta = ParameterVector('θ', int(nq*(nq+7)/2))\n",
    "alpha, Gamma, Delta, Sigma = ut.decompose_params(theta, nq)\n",
    "qc = ut.QCIBM(alpha, Gamma, Delta, Sigma, nq)\n",
    "qc = transpile(qc, backend)\n",
    "\n",
    "#x1,p1 = ut.sample_QCIBM(theta_bind, nq, backend, nsamples = 32)\n",
    "#x2, p2 = ut.sample_QCIBM(theta_bind, nq, backend, 32, qc.bind_parameters({theta: ut.compose_params(alpha, Gamma, Delta, Sigma)}))\n",
    "\n"
   ]
  },
  {
   "cell_type": "code",
   "execution_count": 5,
   "id": "35973a14",
   "metadata": {},
   "outputs": [
    {
     "name": "stdout",
     "output_type": "stream",
     "text": [
      "modes =  [[1. 0.]\n",
      " [0. 1.]\n",
      " [0. 1.]]\n"
     ]
    }
   ],
   "source": [
    "# Samples modes\n",
    "T = 3\n",
    "ps = 0.4\n",
    "pi_modes = np.zeros((T,nq)) \n",
    "for t in range(T):\n",
    "    for i in range(nq):\n",
    "        pi_modes[t,i] = np.random.binomial(1, ps)\n",
    "print('modes = ', pi_modes)"
   ]
  },
  {
   "cell_type": "code",
   "execution_count": 6,
   "id": "aabc9e8f",
   "metadata": {},
   "outputs": [],
   "source": [
    "# Sample from pi\n",
    "p_pi = 0.6\n",
    "n_train = 512\n",
    "sampleshots = 512"
   ]
  },
  {
   "cell_type": "code",
   "execution_count": 7,
   "id": "3d9afe33",
   "metadata": {},
   "outputs": [],
   "source": [
    "kernel_params = [0.1,1,10]"
   ]
  },
  {
   "cell_type": "code",
   "execution_count": 8,
   "id": "dfec72ec",
   "metadata": {
    "scrolled": true
   },
   "outputs": [
    {
     "name": "stdout",
     "output_type": "stream",
     "text": [
      "Lmmd =  0.06111530846336821\n"
     ]
    },
    {
     "ename": "NameError",
     "evalue": "name 'Ksamples' is not defined",
     "output_type": "error",
     "traceback": [
      "\u001b[0;31m---------------------------------------------------------------------------\u001b[0m",
      "\u001b[0;31mNameError\u001b[0m                                 Traceback (most recent call last)",
      "\u001b[0;32m/tmp/ipykernel_18479/3444305616.py\u001b[0m in \u001b[0;36m<module>\u001b[0;34m\u001b[0m\n\u001b[1;32m     16\u001b[0m \u001b[0;34m\u001b[0m\u001b[0m\n\u001b[1;32m     17\u001b[0m \u001b[0mh\u001b[0m \u001b[0;34m=\u001b[0m \u001b[0;36m0.01\u001b[0m\u001b[0;34m\u001b[0m\u001b[0;34m\u001b[0m\u001b[0m\n\u001b[0;32m---> 18\u001b[0;31m \u001b[0mnablaL\u001b[0m \u001b[0;34m=\u001b[0m \u001b[0mut\u001b[0m\u001b[0;34m.\u001b[0m\u001b[0mKL_Gauss_grad\u001b[0m\u001b[0;34m(\u001b[0m\u001b[0mqc\u001b[0m\u001b[0;34m,\u001b[0m \u001b[0mtheta\u001b[0m\u001b[0;34m,\u001b[0m \u001b[0mtheta_init\u001b[0m\u001b[0;34m,\u001b[0m \u001b[0mxsamples\u001b[0m\u001b[0;34m,\u001b[0m \u001b[0mysamples\u001b[0m\u001b[0;34m,\u001b[0m \u001b[0mbackend\u001b[0m\u001b[0;34m,\u001b[0m \u001b[0mkernel_params\u001b[0m\u001b[0;34m)\u001b[0m\u001b[0;34m\u001b[0m\u001b[0;34m\u001b[0m\u001b[0m\n\u001b[0m\u001b[1;32m     19\u001b[0m \u001b[0;34m\u001b[0m\u001b[0m\n\u001b[1;32m     20\u001b[0m \u001b[0;32mfor\u001b[0m \u001b[0mk\u001b[0m \u001b[0;32min\u001b[0m \u001b[0mrange\u001b[0m\u001b[0;34m(\u001b[0m\u001b[0mlen\u001b[0m\u001b[0;34m(\u001b[0m\u001b[0mtheta\u001b[0m\u001b[0;34m)\u001b[0m\u001b[0;34m)\u001b[0m\u001b[0;34m:\u001b[0m\u001b[0;34m\u001b[0m\u001b[0;34m\u001b[0m\u001b[0m\n",
      "\u001b[0;32m~/Scrivania/Quantum/Projects/BornMachine/src/QCIBM_utilities.py\u001b[0m in \u001b[0;36mKL_Gauss_grad\u001b[0;34m(qc, theta, theta_t, psamples, qsamples, backend, kernel_params, Ksqrt, proj_samples)\u001b[0m\n\u001b[1;32m    174\u001b[0m     \u001b[0mQ\u001b[0m \u001b[0;34m=\u001b[0m \u001b[0;36m1024\u001b[0m\u001b[0;34m\u001b[0m\u001b[0;34m\u001b[0m\u001b[0m\n\u001b[1;32m    175\u001b[0m \u001b[0;34m\u001b[0m\u001b[0m\n\u001b[0;32m--> 176\u001b[0;31m     \u001b[0;32mif\u001b[0m\u001b[0;34m(\u001b[0m\u001b[0mlen\u001b[0m\u001b[0;34m(\u001b[0m\u001b[0mKsqrt\u001b[0m\u001b[0;34m)\u001b[0m \u001b[0;34m==\u001b[0m \u001b[0;36m0\u001b[0m \u001b[0;32mand\u001b[0m \u001b[0mlen\u001b[0m\u001b[0;34m(\u001b[0m\u001b[0mKsamples\u001b[0m\u001b[0;34m)\u001b[0m\u001b[0;34m==\u001b[0m\u001b[0;36m0\u001b[0m\u001b[0;34m)\u001b[0m\u001b[0;34m:\u001b[0m\u001b[0;34m\u001b[0m\u001b[0;34m\u001b[0m\u001b[0m\n\u001b[0m\u001b[1;32m    177\u001b[0m         \u001b[0mrng\u001b[0m \u001b[0;34m=\u001b[0m \u001b[0mnp\u001b[0m\u001b[0;34m.\u001b[0m\u001b[0mrandom\u001b[0m\u001b[0;34m.\u001b[0m\u001b[0mdefault_rng\u001b[0m\u001b[0;34m(\u001b[0m\u001b[0;36m27031995\u001b[0m\u001b[0;34m)\u001b[0m\u001b[0;34m\u001b[0m\u001b[0;34m\u001b[0m\u001b[0m\n\u001b[1;32m    178\u001b[0m         \u001b[0mproj_nsamples\u001b[0m \u001b[0;34m=\u001b[0m \u001b[0;36m256\u001b[0m\u001b[0;34m\u001b[0m\u001b[0;34m\u001b[0m\u001b[0m\n",
      "\u001b[0;31mNameError\u001b[0m: name 'Ksamples' is not defined"
     ]
    }
   ],
   "source": [
    "theta = ParameterVector('θ', int(nq*(nq+7)/2))\n",
    "alpha, Gamma, Delta, Sigma = ut.decompose_params(theta, nq)\n",
    "qc = ut.QCIBM(alpha, Gamma, Delta, Sigma, nq)\n",
    "qc = transpile(qc, backend)\n",
    "\n",
    "alpha_init = np.array([[1,0],[0.1,0.3]])\n",
    "Gamma_init = np.array([1,1])\n",
    "Delta_init = np.array([0.5,0.2])\n",
    "Sigma_init = np.array([0,0.1])\n",
    "theta_init = ut.compose_params(alpha_init, Gamma_init, Delta_init, Sigma_init)\n",
    "\n",
    "xsamples, phat = ut.sample_circuit( backend, sampleshots, qc.bind_parameters({theta: theta_init}))\n",
    "ysamples, pi_vec = ut.sample_target_pdf(n_train, pi_modes, p_pi)\n",
    "Lmmd = ut.KL_Gauss_Loss(xsamples, ysamples, kernel_params)\n",
    "print('Lmmd = ', Lmmd)\n",
    "\n",
    "h = 0.01\n",
    "nablaL = ut.KL_Gauss_grad(qc, theta, theta_init, xsamples, ysamples, backend, kernel_params)\n",
    "\n",
    "for k in range(len(theta)):\n",
    "    theta_plus = ut.compose_params(alpha_init, Gamma_init, Delta_init, Sigma_init)\n",
    "    theta_plus[k] += h\n",
    "    xsamples, phat = ut.sample_circuit(backend, sampleshots, qc.bind_parameters({theta: theta_plus}))\n",
    "    Lmmd_plus = ut.KL_Gauss_Loss(xsamples, ysamples, kernel_params)\n",
    "    theta_minus = ut.compose_params(alpha_init, Gamma_init, Delta_init, Sigma_init)\n",
    "    theta_minus[k] -= h\n",
    "    xxsamples, pphat = ut.sample_circuit(backend, sampleshots, qc.bind_parameters({theta: theta_minus}))\n",
    "    Lmmd_minus = ut.KL_Gauss_Loss(xxsamples, ysamples, kernel_params)\n",
    "     \n",
    "    num_grad = (Lmmd_plus - Lmmd_minus)/(2*h)\n",
    "    print('num grad[',k,'] = ', num_grad)\n",
    "    print('anal grad[',k,'] = ', nablaL[k])\n",
    "    print('Δ[',k,'] = ', np.abs(num_grad - nablaL[k]))\n"
   ]
  },
  {
   "cell_type": "code",
   "execution_count": null,
   "id": "c78b68e5",
   "metadata": {},
   "outputs": [],
   "source": [
    "P = np.zeros((500,500))\n",
    "P[1,1] = 1\n",
    "Q = np.zeros((500,500))\n",
    "Q[1,1] = 1\n",
    "print(ut.entropy_relative(P,Q))"
   ]
  },
  {
   "cell_type": "code",
   "execution_count": null,
   "id": "cbf71eb4",
   "metadata": {
    "scrolled": true
   },
   "outputs": [],
   "source": [
    "xsamples, phat = ut.sample_circuit(backend, sampleshots, qc.bind_parameters({theta: theta_init}))\n",
    "Sigma = ut.estimate_covariance_embedding(xsamples, kernel_params )\n",
    "\n",
    "h = 0.01\n",
    "\n",
    "for k in range(len(theta)):\n",
    "    \n",
    "    theta_plus = ut.compose_params(alpha_init, Gamma_init, Delta_init, Sigma_init)\n",
    "    theta_plus[k] += h\n",
    "    xsamples, phat = ut.sample_circuit(backend, sampleshots, qc.bind_parameters({theta: theta_plus}))\n",
    "    Sigmaplus = ut.estimate_covariance_embedding(xsamples, kernel_params)\n",
    "    \n",
    "    theta_minus = ut.compose_params(alpha_init, Gamma_init, Delta_init, Sigma_init)\n",
    "    theta_minus[k] -= h\n",
    "    ysamples, phat = ut.sample_circuit(backend, sampleshots, qc.bind_parameters({theta: theta_minus}))\n",
    "    Sigmaminus = ut.estimate_covariance_embedding(ysamples, kernel_params)\n",
    "    \n",
    "    numderiv = (Sigmaplus - Sigmaminus)/(2*h)\n",
    "    \n",
    "    theta_plus = ut.compose_params(alpha_init, Gamma_init, Delta_init, Sigma_init)\n",
    "    theta_plus[k] += 0.5*np.pi\n",
    "    xsamples, phat = ut.sample_circuit(backend, sampleshots, qc.bind_parameters({theta: theta_plus}))\n",
    "    Sigmaplus = ut.estimate_covariance_embedding(xsamples, kernel_params)\n",
    "    \n",
    "    theta_minus = ut.compose_params(alpha_init, Gamma_init, Delta_init, Sigma_init)\n",
    "    theta_minus[k] -= 0.5*np.pi\n",
    "    ysamples, phat = ut.sample_circuit(backend, sampleshots, qc.bind_parameters({theta: theta_minus}))\n",
    "    Sigmaminus = ut.estimate_covariance_embedding(ysamples, kernel_params)\n",
    "    \n",
    "    analderiv = (Sigmaplus - Sigmaminus)/2\n",
    "    \n",
    "    print('num grad[',k,'] = ')\n",
    "    print(numderiv)\n",
    "    print('anal grad[',k,'] = ')\n",
    "    print(analderiv)\n",
    "    print('Δ[',k,'] = ', np.linalg.norm(analderiv - numderiv))\n"
   ]
  },
  {
   "cell_type": "code",
   "execution_count": null,
   "id": "547e27a7",
   "metadata": {},
   "outputs": [],
   "source": [
    "xsamples, phat = ut.sample_circuit(backend, sampleshots, qc.bind_parameters({theta: theta_init}))\n",
    "ysamples, pi_vec = ut.sample_target_pdf(n_train, pi_modes, p_pi)\n",
    "Sigma = ut.estimate_covariance_embedding(xsamples, kernel_params )\n",
    "Targ = ut.estimate_covariance_embedding(ysamples, kernel_params )\n",
    "\n",
    "h = 0.001\n",
    "\n",
    "num_grad = np.zeros(Sigma.shape)\n",
    "    \n",
    "for i in range(Sigma.shape[0]):\n",
    "    for j in range(Sigma.shape[1]):\n",
    "        Sigmaplus = np.copy(Sigma)\n",
    "        Sigmaplus[i,j] += h\n",
    "        Sigmaminus = np.copy(Sigma)\n",
    "        Sigmaminus[i,j] -= h\n",
    "        \n",
    "        \n",
    "            \n",
    "        DKLp = ut.entropy_relative(Sigmaplus, Targ)\n",
    "        DKLm = ut.entropy_relative(Sigmaminus, Targ)\n",
    "        #DKLp = qml.math.relative_entropy(Sigmaplus, Targ)\n",
    "        #DKLm = qml.math.relative_entropy(Sigmaminus, Targ)\n",
    "\n",
    "        \n",
    "        num_grad[i,j] = (DKLp - DKLm)/(2*h)\n",
    "    \n",
    "\n",
    "LP = ut.logm(Sigma)\n",
    "LQ = ut.logm(Targ)\n",
    "anal_grad = LP + LP.T - np.multiply(np.eye(LP.shape[0]),LP) - (  LQ + LQ.T - np.multiply(np.eye(LQ.shape[0]),LQ) )\n",
    "anal_grad_noob = LP - LQ\n",
    " \n",
    "    \n",
    "print('num grad = ')\n",
    "print(num_grad)\n",
    "print('anal grad = ')\n",
    "print(anal_grad)\n",
    "print('anal grad noob = ')\n",
    "print(anal_grad_noob)\n",
    "print('Δ = ', np.linalg.norm(anal_grad - num_grad))\n"
   ]
  },
  {
   "cell_type": "code",
   "execution_count": null,
   "id": "1da6f39e",
   "metadata": {},
   "outputs": [],
   "source": [
    "def estimate_covariance_embedding_projection(xsamples,samples, Ksqrt, ker_params):\n",
    "\n",
    "    Sigmap = np.zeros((samples.shape[0],samples.shape[0]))\n",
    "\n",
    "    for i in range(xsamples.shape[0]):\n",
    "        ki = ut.compute_kernel_vector(samples,xsamples[i], ker_params)\n",
    "        Sigmap += np.outer(ki,ki)\n",
    "\n",
    "    delta = 10**(-10)\n",
    "    Sigmap = 0.5*(Sigmap + Sigmap.conj().T)\n",
    "    print(Sigmap)\n",
    "    eigval, eigvec = np.linalg.eigh(Sigmap)\n",
    "    print('Eigvals(Sigma) = ', eigval)\n",
    "    Sigmap = 1/(2*xsamples.shape[0]) * Ksqrt @ (Sigmap + Sigmap.T + delta*np.eye(Sigmap.shape[0])) @ Ksqrt\n",
    "\n",
    "\n",
    "    return(Sigmap)"
   ]
  },
  {
   "cell_type": "code",
   "execution_count": null,
   "id": "dcb863cf",
   "metadata": {},
   "outputs": [],
   "source": [
    "rng = np.random.default_rng(27031995)\n",
    "proj_nsamples = 512\n",
    "nq = xsamples.shape[1]\n",
    "samples = np.zeros((proj_nsamples,nq))\n",
    "for i in range(nq):\n",
    "    samples[:,i] =  rng.integers(0, 2, proj_nsamples)\n",
    "K = ut.compute_graham_gauss(samples, kernel_params)\n",
    "delta = 10**(-8)\n",
    "Ksqrt = np.linalg.inv(ut.sqrtm(K + delta * np.eye(K.shape[0])))\n",
    "\n",
    "rho = ut.estimate_covariance_embedding_projection(xsamples,samples, Ksqrt, kernel_params)\n",
    "sigma= ut.estimate_covariance_embedding_projection(ysamples,samples, Ksqrt, kernel_params)"
   ]
  },
  {
   "cell_type": "code",
   "execution_count": null,
   "id": "57aac4c4",
   "metadata": {
    "scrolled": true
   },
   "outputs": [],
   "source": [
    "rvals, rvecs = np.linalg.eig(rho)\n",
    "rvals = np.real(rvals)\n",
    "svals, svecs = np.linalg.eig(sigma)\n",
    "svals = np.real(svals)\n",
    "\n",
    "print('eig(rho) = ',rvals)\n",
    "print('eig(sigma) = ',svals)\n",
    "\n",
    "tol = 10**(-5)\n",
    "\n",
    "print('non-zeros eig = ',rvals[rvals>tol])\n",
    "\n",
    "print('res = ', rho@svecs[:,svals<tol])\n",
    "\n",
    "if any(rvals<tol):\n",
    "    T = sigma@rvecs[:,rvals>tol]\n",
    "    flags = []\n",
    "    [flags.append(np.linalg.norm(T[:,i]) < tol) for i in range(np.sum(rvals>tol))]\n",
    "    print(flags)\n",
    "    if any(flags):\n",
    "        print(9999)\n",
    "\n",
    "H = -rvals[rvals > tol]@np.log(rvals[rvals > tol])\n",
    "rvals[rvals < tol] = 0\n",
    "svals[svals < tol] = 1\n",
    "\n",
    "IP = abs(np.conj(svecs).T@rvecs)**2\n",
    "Hcross = -rvals@IP@np.log(svals)\n",
    "\n",
    "print(np.real(Hcross - H -np.trace(rho) + np.trace(sigma)))"
   ]
  }
 ],
 "metadata": {
  "kernelspec": {
   "display_name": "Python 3 (ipykernel)",
   "language": "python",
   "name": "python3"
  },
  "language_info": {
   "codemirror_mode": {
    "name": "ipython",
    "version": 3
   },
   "file_extension": ".py",
   "mimetype": "text/x-python",
   "name": "python",
   "nbconvert_exporter": "python",
   "pygments_lexer": "ipython3",
   "version": "3.7.4"
  }
 },
 "nbformat": 4,
 "nbformat_minor": 5
}
