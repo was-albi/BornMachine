{
 "cells": [
  {
   "cell_type": "code",
   "execution_count": 1,
   "id": "650dd22b",
   "metadata": {},
   "outputs": [],
   "source": [
    "import numpy as np\n",
    "import matplotlib.pyplot as plt\n",
    "\n",
    "from qiskit import QuantumCircuit, transpile, Aer, execute\n",
    "from qiskit.visualization import plot_histogram\n",
    "from qiskit.circuit.library import IQP\n",
    "from qiskit.circuit import ParameterVector\n",
    "\n",
    "from src import QCIBM_utilities as ut"
   ]
  },
  {
   "cell_type": "code",
   "execution_count": 2,
   "id": "19383d64",
   "metadata": {},
   "outputs": [],
   "source": [
    "nq = 2\n",
    "alpha_init = np.array([[1,0],[0.1,0.3]])\n",
    "Gamma_init = np.array([1,1])\n",
    "Delta_init = np.array([0.5, 0.2])\n",
    "Sigma_init = np.array([0,0.1])"
   ]
  },
  {
   "cell_type": "code",
   "execution_count": 3,
   "id": "7b919a4e",
   "metadata": {
    "scrolled": true
   },
   "outputs": [],
   "source": [
    "backend = Aer.get_backend('qasm_simulator')"
   ]
  },
  {
   "cell_type": "code",
   "execution_count": 4,
   "id": "236134c4",
   "metadata": {},
   "outputs": [],
   "source": [
    "theta = ParameterVector('θ', int(nq*(nq+7)/2))\n",
    "alpha, Gamma, Delta, Sigma = ut.decompose_params(theta, nq)\n",
    "qc = ut.QCIBM(alpha, Gamma, Delta, Sigma, nq)\n",
    "qc = transpile(qc, backend)\n",
    "\n",
    "#x1,p1 = ut.sample_QCIBM(theta_bind, nq, backend, nsamples = 32)\n",
    "#x2, p2 = ut.sample_QCIBM(theta_bind, nq, backend, 32, qc.bind_parameters({theta: ut.compose_params(alpha, Gamma, Delta, Sigma)}))\n",
    "\n"
   ]
  },
  {
   "cell_type": "code",
   "execution_count": 5,
   "id": "35973a14",
   "metadata": {},
   "outputs": [
    {
     "name": "stdout",
     "output_type": "stream",
     "text": [
      "modes =  [[1. 0.]\n",
      " [0. 0.]\n",
      " [1. 1.]]\n"
     ]
    }
   ],
   "source": [
    "# Samples modes\n",
    "T = 3\n",
    "ps = 0.4\n",
    "pi_modes = np.zeros((T,nq)) \n",
    "for t in range(T):\n",
    "    for i in range(nq):\n",
    "        pi_modes[t,i] = np.random.binomial(1, ps)\n",
    "print('modes = ', pi_modes)"
   ]
  },
  {
   "cell_type": "code",
   "execution_count": 6,
   "id": "aabc9e8f",
   "metadata": {},
   "outputs": [],
   "source": [
    "# Sample from pi\n",
    "p_pi = 0.6\n",
    "n_train = 1024\n",
    "sampleshots = 1024"
   ]
  },
  {
   "cell_type": "code",
   "execution_count": 7,
   "id": "3d9afe33",
   "metadata": {},
   "outputs": [],
   "source": [
    "kernel_params = np.ones(nq+1)*(1/(nq+1))"
   ]
  },
  {
   "cell_type": "code",
   "execution_count": 8,
   "id": "dfec72ec",
   "metadata": {
    "scrolled": true
   },
   "outputs": [
    {
     "ename": "AttributeError",
     "evalue": "'tuple' object has no attribute 'shape'",
     "output_type": "error",
     "traceback": [
      "\u001b[0;31m---------------------------------------------------------------------------\u001b[0m",
      "\u001b[0;31mAttributeError\u001b[0m                            Traceback (most recent call last)",
      "\u001b[0;32m/tmp/ipykernel_11095/1777275101.py\u001b[0m in \u001b[0;36m<module>\u001b[0;34m\u001b[0m\n\u001b[1;32m     12\u001b[0m \u001b[0mxsamples\u001b[0m\u001b[0;34m,\u001b[0m \u001b[0mphat\u001b[0m \u001b[0;34m=\u001b[0m \u001b[0mut\u001b[0m\u001b[0;34m.\u001b[0m\u001b[0msample_circuit\u001b[0m\u001b[0;34m(\u001b[0m \u001b[0mbackend\u001b[0m\u001b[0;34m,\u001b[0m \u001b[0msampleshots\u001b[0m\u001b[0;34m,\u001b[0m \u001b[0mqc\u001b[0m\u001b[0;34m.\u001b[0m\u001b[0mbind_parameters\u001b[0m\u001b[0;34m(\u001b[0m\u001b[0;34m{\u001b[0m\u001b[0mtheta\u001b[0m\u001b[0;34m:\u001b[0m \u001b[0mtheta_init\u001b[0m\u001b[0;34m}\u001b[0m\u001b[0;34m)\u001b[0m\u001b[0;34m)\u001b[0m\u001b[0;34m\u001b[0m\u001b[0;34m\u001b[0m\u001b[0m\n\u001b[1;32m     13\u001b[0m \u001b[0mysamples\u001b[0m \u001b[0;34m=\u001b[0m \u001b[0mut\u001b[0m\u001b[0;34m.\u001b[0m\u001b[0msample_target_pdf\u001b[0m\u001b[0;34m(\u001b[0m\u001b[0mn_train\u001b[0m\u001b[0;34m,\u001b[0m \u001b[0mpi_modes\u001b[0m\u001b[0;34m,\u001b[0m \u001b[0mp_pi\u001b[0m\u001b[0;34m)\u001b[0m\u001b[0;34m\u001b[0m\u001b[0;34m\u001b[0m\u001b[0m\n\u001b[0;32m---> 14\u001b[0;31m \u001b[0mLmmd\u001b[0m \u001b[0;34m=\u001b[0m \u001b[0mut\u001b[0m\u001b[0;34m.\u001b[0m\u001b[0mKL_Hypercube_Loss\u001b[0m\u001b[0;34m(\u001b[0m\u001b[0mxsamples\u001b[0m\u001b[0;34m,\u001b[0m \u001b[0mysamples\u001b[0m\u001b[0;34m,\u001b[0m \u001b[0mkernel_params\u001b[0m\u001b[0;34m)\u001b[0m\u001b[0;34m\u001b[0m\u001b[0;34m\u001b[0m\u001b[0m\n\u001b[0m\u001b[1;32m     15\u001b[0m \u001b[0mprint\u001b[0m\u001b[0;34m(\u001b[0m\u001b[0;34m'Lmmd = '\u001b[0m\u001b[0;34m,\u001b[0m \u001b[0mLmmd\u001b[0m\u001b[0;34m)\u001b[0m\u001b[0;34m\u001b[0m\u001b[0;34m\u001b[0m\u001b[0m\n\u001b[1;32m     16\u001b[0m \u001b[0;34m\u001b[0m\u001b[0m\n",
      "\u001b[0;32m~/Scrivania/Quantum/Projects/BornMachine/src/QCIBM_utilities.py\u001b[0m in \u001b[0;36mKL_Hypercube_Loss\u001b[0;34m(psamples, qsamples, kernel_params)\u001b[0m\n\u001b[1;32m     96\u001b[0m     \u001b[0;31m# compute kernel KL Loss with linear parametrized kernel\u001b[0m\u001b[0;34m\u001b[0m\u001b[0;34m\u001b[0m\u001b[0;34m\u001b[0m\u001b[0m\n\u001b[1;32m     97\u001b[0m     \u001b[0mSigmap\u001b[0m \u001b[0;34m=\u001b[0m \u001b[0mestimate_covariance_embedding\u001b[0m\u001b[0;34m(\u001b[0m\u001b[0mpsamples\u001b[0m\u001b[0;34m,\u001b[0m \u001b[0mphi_params\u001b[0m \u001b[0;34m=\u001b[0m \u001b[0mkernel_params\u001b[0m\u001b[0;34m)\u001b[0m \u001b[0;31m# alternatively one can use the Graam matrix for computing D_KL\u001b[0m\u001b[0;34m\u001b[0m\u001b[0;34m\u001b[0m\u001b[0m\n\u001b[0;32m---> 98\u001b[0;31m     \u001b[0mSigmaq\u001b[0m \u001b[0;34m=\u001b[0m \u001b[0mestimate_covariance_embedding\u001b[0m\u001b[0;34m(\u001b[0m\u001b[0mqsamples\u001b[0m\u001b[0;34m,\u001b[0m \u001b[0mphi_params\u001b[0m \u001b[0;34m=\u001b[0m \u001b[0mkernel_params\u001b[0m\u001b[0;34m)\u001b[0m\u001b[0;34m\u001b[0m\u001b[0;34m\u001b[0m\u001b[0m\n\u001b[0m\u001b[1;32m     99\u001b[0m \u001b[0;34m\u001b[0m\u001b[0m\n\u001b[1;32m    100\u001b[0m     \u001b[0;32mreturn\u001b[0m\u001b[0;34m(\u001b[0m\u001b[0mentropy_relative\u001b[0m\u001b[0;34m(\u001b[0m\u001b[0mSigmap\u001b[0m\u001b[0;34m,\u001b[0m\u001b[0mSigmaq\u001b[0m\u001b[0;34m)\u001b[0m\u001b[0;34m)\u001b[0m\u001b[0;34m\u001b[0m\u001b[0;34m\u001b[0m\u001b[0m\n",
      "\u001b[0;32m~/Scrivania/Quantum/Projects/BornMachine/src/QCIBM_utilities.py\u001b[0m in \u001b[0;36mestimate_covariance_embedding\u001b[0;34m(samples, phi_params)\u001b[0m\n\u001b[1;32m    223\u001b[0m \u001b[0;32mdef\u001b[0m \u001b[0mestimate_covariance_embedding\u001b[0m\u001b[0;34m(\u001b[0m\u001b[0msamples\u001b[0m\u001b[0;34m,\u001b[0m \u001b[0mphi_params\u001b[0m\u001b[0;34m)\u001b[0m\u001b[0;34m:\u001b[0m\u001b[0;34m\u001b[0m\u001b[0;34m\u001b[0m\u001b[0m\n\u001b[1;32m    224\u001b[0m     \u001b[0md\u001b[0m \u001b[0;34m=\u001b[0m \u001b[0mlen\u001b[0m\u001b[0;34m(\u001b[0m\u001b[0mphi_params\u001b[0m\u001b[0;34m)\u001b[0m\u001b[0;34m\u001b[0m\u001b[0;34m\u001b[0m\u001b[0m\n\u001b[0;32m--> 225\u001b[0;31m     \u001b[0;32mif\u001b[0m\u001b[0;34m(\u001b[0m\u001b[0md\u001b[0m\u001b[0;34m-\u001b[0m\u001b[0;36m1\u001b[0m \u001b[0;34m!=\u001b[0m \u001b[0msamples\u001b[0m\u001b[0;34m.\u001b[0m\u001b[0mshape\u001b[0m\u001b[0;34m[\u001b[0m\u001b[0;36m1\u001b[0m\u001b[0;34m]\u001b[0m\u001b[0;34m)\u001b[0m\u001b[0;34m:\u001b[0m\u001b[0;34m\u001b[0m\u001b[0;34m\u001b[0m\u001b[0m\n\u001b[0m\u001b[1;32m    226\u001b[0m         \u001b[0mprint\u001b[0m\u001b[0;34m(\u001b[0m\u001b[0;34m'Estimate covariance embedding ERROR: Wrong Dimension!'\u001b[0m\u001b[0;34m)\u001b[0m\u001b[0;34m\u001b[0m\u001b[0;34m\u001b[0m\u001b[0m\n\u001b[1;32m    227\u001b[0m         \u001b[0;32mreturn\u001b[0m \u001b[0;36m0\u001b[0m\u001b[0;34m\u001b[0m\u001b[0;34m\u001b[0m\u001b[0m\n",
      "\u001b[0;31mAttributeError\u001b[0m: 'tuple' object has no attribute 'shape'"
     ]
    }
   ],
   "source": [
    "theta = ParameterVector('θ', int(nq*(nq+7)/2))\n",
    "alpha, Gamma, Delta, Sigma = ut.decompose_params(theta, nq)\n",
    "qc = ut.QCIBM(alpha, Gamma, Delta, Sigma, nq)\n",
    "qc = transpile(qc, backend)\n",
    "\n",
    "alpha_init = np.array([[1,0],[0.1,0.3]])\n",
    "Gamma_init = np.array([1,1])\n",
    "Delta_init = np.array([0.5,0.2])\n",
    "Sigma_init = np.array([0,0.1])\n",
    "theta_init = ut.compose_params(alpha_init, Gamma_init, Delta_init, Sigma_init)\n",
    "\n",
    "xsamples, phat = ut.sample_circuit( backend, sampleshots, qc.bind_parameters({theta: theta_init}))\n",
    "ysamples, pi_vec = ut.sample_target_pdf(n_train, pi_modes, p_pi)\n",
    "Lmmd = ut.KL_Hypercube_Loss(xsamples, ysamples, kernel_params)\n",
    "print('Lmmd = ', Lmmd)\n",
    "\n",
    "h = 0.007\n",
    "nablaL = ut.KL_Hypercube_grad(qc, theta, theta_init, xsamples, ysamples, backend, kernel_params)\n",
    "\n",
    "for k in range(len(theta)):\n",
    "    theta_plus = ut.compose_params(alpha_init, Gamma_init, Delta_init, Sigma_init)\n",
    "    theta_plus[k] += h\n",
    "    xsamples, phat = ut.sample_circuit(backend, sampleshots, qc.bind_parameters({theta: theta_plus}))\n",
    "    Lmmd_plus = ut.KL_Hypercube_Loss(xsamples, ysamples, kernel_params)\n",
    "    theta_minus = ut.compose_params(alpha_init, Gamma_init, Delta_init, Sigma_init)\n",
    "    theta_minus[k] -= h\n",
    "    xxsamples, pphat = ut.sample_circuit(backend, sampleshots, qc.bind_parameters({theta: theta_minus}))\n",
    "    Lmmd_minus = ut.KL_Hypercube_Loss(xxsamples, ysamples, kernel_params)\n",
    "     \n",
    "    num_grad = (Lmmd_plus - Lmmd_minus)/h\n",
    "    print('num grad[',k,'] = ', num_grad)\n",
    "    print('anal grad[',k,'] = ', nablaL[k])\n",
    "    print('Δ[',k,'] = ', np.abs(num_grad - nablaL[k]))\n"
   ]
  },
  {
   "cell_type": "code",
   "execution_count": 12,
   "id": "11de2fcc",
   "metadata": {},
   "outputs": [
    {
     "data": {
      "text/plain": [
       "(array([[1., 1.],\n",
       "        [0., 1.],\n",
       "        [1., 0.],\n",
       "        ...,\n",
       "        [0., 0.],\n",
       "        [1., 1.],\n",
       "        [0., 1.]]),\n",
       " array([0.25333333, 0.21333333, 0.28      , 0.25333333]))"
      ]
     },
     "execution_count": 12,
     "metadata": {},
     "output_type": "execute_result"
    }
   ],
   "source": [
    "ysamples"
   ]
  }
 ],
 "metadata": {
  "kernelspec": {
   "display_name": "Python 3 (ipykernel)",
   "language": "python",
   "name": "python3"
  },
  "language_info": {
   "codemirror_mode": {
    "name": "ipython",
    "version": 3
   },
   "file_extension": ".py",
   "mimetype": "text/x-python",
   "name": "python",
   "nbconvert_exporter": "python",
   "pygments_lexer": "ipython3",
   "version": "3.7.4"
  }
 },
 "nbformat": 4,
 "nbformat_minor": 5
}
